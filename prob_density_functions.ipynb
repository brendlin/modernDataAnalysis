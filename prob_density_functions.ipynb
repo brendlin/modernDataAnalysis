{
 "cells": [
  {
   "cell_type": "markdown",
   "metadata": {},
   "source": [
    "Probability Density Functions\n",
    "========\n",
    "\n",
    " - Split normal (double-sided Gaussian)\n",
    " - "
   ]
  },
  {
   "cell_type": "code",
   "execution_count": null,
   "metadata": {},
   "outputs": [],
   "source": [
    "import numpy as np\n",
    "import pandas as pd\n",
    "import matplotlib.pyplot as plt\n",
    "plt.rcParams.update({'font.size': 15})\n",
    "\n",
    "from datetime import datetime"
   ]
  },
  {
   "cell_type": "code",
   "execution_count": null,
   "metadata": {},
   "outputs": [],
   "source": [
    "from scipy.optimize import curve_fit"
   ]
  },
  {
   "cell_type": "markdown",
   "metadata": {},
   "source": [
    "Basics: Fitting a distribution to a dataset (e.g. fitting data with a Gaussian)\n",
    "--------"
   ]
  },
  {
   "cell_type": "code",
   "execution_count": null,
   "metadata": {},
   "outputs": [],
   "source": [
    "import numpy as np\n",
    "from scipy import stats\n",
    "import matplotlib.pyplot as plt  # matplotlib must be installed to plot\n",
    "\n",
    "rng = np.random.default_rng()\n",
    "dist = stats.nbinom\n",
    "shapes = (5, 0.5)\n",
    "data = dist.rvs(*shapes, size=1000, random_state=rng)"
   ]
  },
  {
   "cell_type": "code",
   "execution_count": null,
   "metadata": {},
   "outputs": [],
   "source": [
    "bounds = [(0, 30), (0, 1)]\n",
    "res = stats.fit(dist, data, bounds)"
   ]
  },
  {
   "cell_type": "code",
   "execution_count": null,
   "metadata": {},
   "outputs": [],
   "source": [
    "res.params"
   ]
  },
  {
   "cell_type": "code",
   "execution_count": null,
   "metadata": {},
   "outputs": [],
   "source": [
    "fig,ax = plt.subplots(1,1,figsize=(8,6))\n",
    "ax.hist(data,bins=np.linspace(-0.5,19.5,21),histtype = 'step',fill=None,linewidth=2,density=2)\n",
    "rv = stats.nbinom(res.params.n, res.params.p)\n",
    "xx = np.arange(20)\n",
    "ax.plot(xx, stats.nbinom.pmf(xx, res.params.n, res.params.p), 'bo', ms=8, label='nbinom pmf')"
   ]
  },
  {
   "cell_type": "markdown",
   "metadata": {},
   "source": [
    "Basics: Fitting a distribution to a dataset (e.g. fitting data with a Gaussian)\n",
    "--------"
   ]
  },
  {
   "cell_type": "code",
   "execution_count": null,
   "metadata": {},
   "outputs": [],
   "source": [
    "rng = np.random.default_rng()\n",
    "dist = stats.norm\n",
    "shapes = (0, 1)\n",
    "data = dist.rvs(*shapes, size=20, random_state=rng)"
   ]
  },
  {
   "cell_type": "code",
   "execution_count": null,
   "metadata": {},
   "outputs": [],
   "source": [
    "res = stats.fit(dist, data, [(-5, 5), (0, 10)])"
   ]
  },
  {
   "cell_type": "code",
   "execution_count": null,
   "metadata": {},
   "outputs": [],
   "source": [
    "res.params"
   ]
  },
  {
   "cell_type": "code",
   "execution_count": null,
   "metadata": {},
   "outputs": [],
   "source": [
    "print(sum(data)/len(data),np.std(data))"
   ]
  },
  {
   "cell_type": "code",
   "execution_count": null,
   "metadata": {},
   "outputs": [],
   "source": [
    "fig,ax = plt.subplots(1,1,figsize=(8,6))\n",
    "ax.hist(data, density=True, histtype='stepfilled', alpha=0.2,bins=np.linspace(-4,4,101),label='data');\n",
    "xx = np.linspace(dist.ppf(0.001),dist.ppf(0.999),100)\n",
    "#ax.plot(xx, dist.pdf(xx, res.params.loc, res.params.scale), label='fitted Gaus')\n",
    "ax.plot(xx, dist.pdf(xx, 0, 1), label='Gaus(0,1)')\n",
    "ax.legend()"
   ]
  },
  {
   "cell_type": "markdown",
   "metadata": {},
   "source": [
    "Basics: Fitting a distribution to a dataset (e.g. fitting data with a Lognormal)\n",
    "--------"
   ]
  },
  {
   "cell_type": "code",
   "execution_count": null,
   "metadata": {},
   "outputs": [],
   "source": [
    "rng = np.random.default_rng()\n",
    "dist = stats.lognorm\n",
    "shapes = (0.25, 1, 1) # s (width 1), loc( 0), second width (1)\n",
    "data = np.maximum(stats.norm.rvs(100,10, size=20, random_state=rng),0)"
   ]
  },
  {
   "cell_type": "code",
   "execution_count": null,
   "metadata": {},
   "outputs": [],
   "source": [
    "res = stats.fit(dist, data, [(0, 5), (0, 200),(0,200)])"
   ]
  },
  {
   "cell_type": "code",
   "execution_count": null,
   "metadata": {},
   "outputs": [],
   "source": [
    "res.params"
   ]
  },
  {
   "cell_type": "code",
   "execution_count": null,
   "metadata": {},
   "outputs": [],
   "source": [
    "fig,ax = plt.subplots(1,1,figsize=(8,6))\n",
    "ax.hist(data, density=True, histtype='stepfilled', alpha=0.2,\n",
    "        bins=np.linspace(-sorted(data)[0]*0.9,sorted(data)[-1]*1.1,101),label='data');\n",
    "\n",
    "xx = np.linspace(dist.ppf(0.001, *res.params),dist.ppf(0.999, *res.params),100)\n",
    "ax.plot(xx, dist.pdf(xx, res.params.s, res.params.loc, res.params.scale), label='fitted logn')\n",
    "#ax.plot(xx, dist.pdf(xx, *shapes), label='logn')\n",
    "ax.legend()"
   ]
  },
  {
   "cell_type": "markdown",
   "metadata": {},
   "source": [
    "Parallelize a fit - python multiprocessing (does not seem to work)\n",
    "--------"
   ]
  },
  {
   "cell_type": "code",
   "execution_count": null,
   "metadata": {},
   "outputs": [],
   "source": [
    "#datasets = np.maximum(stats.norm.rvs(100,10, size=(3,20), random_state=rng),0)\n",
    "#datasets"
   ]
  },
  {
   "cell_type": "code",
   "execution_count": null,
   "metadata": {},
   "outputs": [],
   "source": [
    "#%%timeit\n",
    "#\n",
    "#res = []\n",
    "#for data in datasets :\n",
    "#    res.append(stats.fit(stats.lognorm, data, [(0, 5), (0, 200),(0,200)]))"
   ]
  },
  {
   "cell_type": "code",
   "execution_count": null,
   "metadata": {},
   "outputs": [],
   "source": [
    "#from multiprocessing import Pool\n",
    "#import multiprocessing\n",
    "#\n",
    "#from multiprocessing import set_start_method\n",
    "#set_start_method(\"spawn\")"
   ]
  },
  {
   "cell_type": "code",
   "execution_count": null,
   "metadata": {},
   "outputs": [],
   "source": [
    "#def f(x):\n",
    "#    return x*x\n",
    "#\n",
    "#with Pool(5) as p:\n",
    "#    print(p.map(f, [1, 2, 3]))"
   ]
  },
  {
   "cell_type": "code",
   "execution_count": null,
   "metadata": {},
   "outputs": [],
   "source": [
    "#def double(a):\n",
    "#    return a * 2\n",
    "#\n",
    "#def driver_func():\n",
    "#    PROCESSES = 4\n",
    "#    with multiprocessing.Pool(PROCESSES) as pool:\n",
    "#        params = [(1, ), (2, ), (3, ), (4, )]\n",
    "#        results = [pool.apply_async(double, p) for p in params]\n",
    "#\n",
    "#        for r in results:\n",
    "#            print('\\t', r.get())"
   ]
  },
  {
   "cell_type": "code",
   "execution_count": null,
   "metadata": {},
   "outputs": [],
   "source": [
    "#driver_func()"
   ]
  },
  {
   "cell_type": "code",
   "execution_count": null,
   "metadata": {},
   "outputs": [],
   "source": [
    "#import multiprocessing as mp\n",
    "#print(\"Number of processors: \", mp.cpu_count())"
   ]
  },
  {
   "cell_type": "markdown",
   "metadata": {},
   "source": [
    "Split-normal (two-piece normal) (double-sided Gaussian) distribution\n",
    "-----------\n",
    "\n",
    "**Version 1: has two parameters for width of each side (not ideal)**"
   ]
  },
  {
   "cell_type": "code",
   "execution_count": null,
   "metadata": {},
   "outputs": [],
   "source": [
    "from scipy.stats import rv_continuous\n",
    "import scipy.special as sc\n",
    "from scipy.stats._distn_infrastructure import _ShapeInfo"
   ]
  },
  {
   "cell_type": "code",
   "execution_count": null,
   "metadata": {},
   "outputs": [],
   "source": [
    "class split_normal_gen(rv_continuous):\n",
    "    r\"\"\"A split normal distribution.\n",
    "    \"\"\"\n",
    "    #def _argcheck(self, *Params):\n",
    "    #    return True\n",
    "    \n",
    "    def _get_support(self, a, b):\n",
    "        # The lower and upper boundaries of x\n",
    "        return -float('inf'), float('inf')\n",
    "\n",
    "    def _shape_info(self):\n",
    "        # name, integrality=False, domain=(-np.inf, np.inf), inclusive=(True, True)\n",
    "        # Integrality: whether it is an integer or not.\n",
    "        return [_ShapeInfo(\"a\", False, (0, np.inf), (False, False))]\n",
    "\n",
    "    def _pdf(self, x, a, b):\n",
    "        \n",
    "        C = np.sqrt(2/np.pi) * ( 1/(a + b) )        \n",
    "        sigma  = (x < 0) * a\n",
    "        sigma += (x >= 0) * b\n",
    "        return C * np.exp( -x**2/(2.0*sigma**2) )\n",
    "\n",
    "    def _cdf(self, x, a, b):\n",
    "        # Reuse the cdf defined for the Normal distribution\n",
    "        \n",
    "        afrac = a/(a+b)\n",
    "        bfrac = b/(a+b)\n",
    "        \n",
    "        ret  = (x < 0) * (afrac*2.0) * sc.ndtr( x/a)\n",
    "        ret += (x > 0) * (1 - (bfrac*2.0) * sc.ndtr(-x/b))\n",
    "\n",
    "        return ret\n",
    "\n",
    "    def _ppf(self, q, a, b):\n",
    "        # Reuse the ppf defined for the Normal distribution\n",
    "\n",
    "        afrac = a/(a+b)\n",
    "        bfrac = b/(a+b)\n",
    "        ret  = (q < afrac) *   a  * sc.ndtri( np.minimum(   q /(2.0*afrac), 0.5) )\n",
    "        ret += (q > afrac) * (-b) * sc.ndtri( np.minimum((1-q)/(2.0*bfrac), 0.5) )\n",
    "\n",
    "        return ret\n",
    "\n",
    "    #def _stats(self):\n",
    "    #    return np.inf, np.inf, np.nan, np.nan\n",
    "\n",
    "split_normal = split_normal_gen(a = 1, b = 1, name=\"split_normal\")"
   ]
  },
  {
   "cell_type": "code",
   "execution_count": null,
   "metadata": {},
   "outputs": [],
   "source": [
    "fig,axes = plt.subplots(1,2,figsize=(16,6))\n",
    "axes = axes.flatten()\n",
    "\n",
    "a = 2\n",
    "b = 1\n",
    "loc=5\n",
    "rng = np.random.default_rng()\n",
    "data = split_normal.rvs(a=a,b=b,loc=loc, size=500000, random_state=rng)\n",
    "\n",
    "xhist = np.linspace(sorted(data)[0],sorted(data)[-1],100)\n",
    "xx = np.linspace(sorted(data)[0],sorted(data)[-1],1000)\n",
    "x_ppf = np.linspace(0.001,0.999,1000)\n",
    "\n",
    "ax = axes[0]\n",
    "ax.hist(data, density=True, histtype='stepfilled', alpha=0.2,bins=xhist,label='data');\n",
    "ax.plot(xx, split_normal.pdf(xx,a,b,loc=loc), label='pdf')\n",
    "\n",
    "ax = axes[1]\n",
    "ax.plot(x_ppf, split_normal.ppf(x_ppf,a,b,loc=loc), label='ppf (inverse of cdf)')\n",
    "ax.legend()\n",
    "\n",
    "ax = axes[0].twinx()\n",
    "ax.plot(xx, split_normal.cdf(xx,a,b,loc=loc), label='cdf')\n",
    "ax.plot(xx, split_normal.sf(xx,a,b,loc=loc), label='sf',color='red')\n",
    "ax.set_ylim(bottom=0)\n",
    "ax.legend()\n",
    "axes[0].legend(loc=2)"
   ]
  },
  {
   "cell_type": "code",
   "execution_count": null,
   "metadata": {},
   "outputs": [],
   "source": [
    "a = 1\n",
    "b = 4\n",
    "loc=4\n",
    "rng = np.random.default_rng()\n",
    "data = split_normal.rvs(a=a,b=b,loc=loc, size=20, random_state=rng)\n",
    "\n",
    "res = split_normal.fit(data,fscale=1)\n",
    "print(res)\n",
    "\n",
    "buffer = 0.2*(sorted(data)[-1] - sorted(data)[0])\n",
    "xlow = sorted(data)[0] - buffer\n",
    "xhigh = sorted(data)[-1] + buffer\n",
    "\n",
    "xhist = np.linspace(xlow,xhigh,100)\n",
    "xx = np.linspace(xlow,xhigh,1000)\n",
    "\n",
    "fig,ax = plt.subplots(1,1,figsize=(8,6))\n",
    "ax.hist(data, density=True, histtype='stepfilled', alpha=0.2,bins=xhist,label='data');\n",
    "ax.plot(xx, split_normal.pdf(xx,a=res[0],b=res[1],loc=res[2]), label='ppf (inverse of cdf)')"
   ]
  },
  {
   "cell_type": "markdown",
   "metadata": {},
   "source": [
    "Split-normal with relative sigmas\n",
    "--------\n",
    "\n",
    "**Version 2: defines a single variable that describes the scaling of the second width compared to the first width (more ideal, correct number of variables.)**"
   ]
  },
  {
   "cell_type": "code",
   "execution_count": null,
   "metadata": {},
   "outputs": [],
   "source": [
    "class split_norm_gen(rv_continuous):\n",
    "    r\"\"\"A split normal distribution.\n",
    "    \"\"\"\n",
    "    #def _argcheck(self, *Params):\n",
    "    #    return True\n",
    "    \n",
    "    def _get_support(self, a):\n",
    "        # The lower and upper boundaries of x\n",
    "        return -float('inf'), float('inf')\n",
    "\n",
    "    def _shape_info(self):\n",
    "        # name, integrality=False, domain=(-np.inf, np.inf), inclusive=(True, True)\n",
    "        # Integrality: whether it is an integer or not.\n",
    "        return [_ShapeInfo(\"a\", False, (0, np.inf), (False, False))]\n",
    "\n",
    "    def _pdf(self, x, a):\n",
    "\n",
    "        C = np.sqrt(2/np.pi) * ( 1/(a + 1.0) )        \n",
    "        sigma  = (x < 0) * a\n",
    "        sigma += (x >= 0) * 1.0\n",
    "        return C * np.exp( -x**2/(2.0*sigma**2) )\n",
    "\n",
    "    def _cdf(self, x, a):\n",
    "        # Reuse the cdf defined for the Normal distribution\n",
    "        \n",
    "        afrac =   a/(a+1.0)\n",
    "        bfrac = 1.0/(a+1.0)\n",
    "        \n",
    "        ret  = (x < 0) *        (afrac*2.0) * sc.ndtr( x/a  )\n",
    "        ret += (x > 0) * (1.0 - (bfrac*2.0) * sc.ndtr(-x/1.0))\n",
    "\n",
    "        return ret\n",
    "\n",
    "    def _ppf(self, q, a):\n",
    "        # Reuse the ppf defined for the Normal distribution\n",
    "\n",
    "        afrac =   a/(a+1.0)\n",
    "        bfrac = 1.0/(a+1.0)\n",
    "        ret  = (q < afrac) *     a  * sc.ndtri( np.minimum(   q /(2.0*afrac), 0.5) )\n",
    "        ret += (q > afrac) * (-1.0) * sc.ndtri( np.minimum((1-q)/(2.0*bfrac), 0.5) )\n",
    "\n",
    "        return ret\n",
    "\n",
    "    #def _stats(self):\n",
    "    #    return np.inf, np.inf, np.nan, np.nan\n",
    "\n",
    "split_norm = split_norm_gen(a = 1, name=\"split_norm\")"
   ]
  },
  {
   "cell_type": "code",
   "execution_count": null,
   "metadata": {},
   "outputs": [],
   "source": [
    "fig,axes = plt.subplots(1,2,figsize=(16,6))\n",
    "axes = axes.flatten()\n",
    "\n",
    "a = 0.5\n",
    "loc=5.0\n",
    "rng = np.random.default_rng()\n",
    "data = split_norm.rvs(a=a,loc=loc, size=500000, random_state=rng)\n",
    "\n",
    "xhist = np.linspace(sorted(data)[0],sorted(data)[-1],100)\n",
    "xx = np.linspace(sorted(data)[0],sorted(data)[-1],1000)\n",
    "x_ppf = np.linspace(0.001,0.999,1000)\n",
    "\n",
    "ax = axes[0]\n",
    "ax.hist(data, density=True, histtype='stepfilled', alpha=0.2,bins=xhist,label='data');\n",
    "ax.plot(xx, split_norm.pdf(xx,a,loc=loc), label='pdf')\n",
    "\n",
    "ax = axes[1]\n",
    "ax.plot(x_ppf, split_norm.ppf(x_ppf,a,loc=loc), label='ppf (inverse of cdf)')\n",
    "ax.legend()\n",
    "\n",
    "ax = axes[0].twinx()\n",
    "ax.plot(xx, split_norm.cdf(xx,a,loc=loc), label='cdf')\n",
    "ax.plot(xx, split_norm.sf(xx,a,loc=loc), label='sf',color='red')\n",
    "ax.set_ylim(bottom=0)\n",
    "ax.legend()\n",
    "axes[0].legend(loc=2)"
   ]
  },
  {
   "cell_type": "code",
   "execution_count": null,
   "metadata": {},
   "outputs": [],
   "source": [
    "a = 4.0\n",
    "loc=-5.0\n",
    "rng = np.random.default_rng()\n",
    "data = split_norm.rvs(a=a,loc=loc, size=20, random_state=rng)\n",
    "\n",
    "res = split_norm.fit(data)\n",
    "print(res)\n",
    "\n",
    "buffer = 0.2*(sorted(data)[-1] - sorted(data)[0])\n",
    "xlow = sorted(data)[0] - buffer\n",
    "xhigh = sorted(data)[-1] + buffer\n",
    "\n",
    "xhist = np.linspace(xlow,xhigh,100)\n",
    "xx = np.linspace(xlow,xhigh,1000)\n",
    "\n",
    "fig,ax = plt.subplots(1,1,figsize=(8,6))\n",
    "ax.hist(data, density=True, histtype='stepfilled', alpha=0.2,bins=xhist,label='data');\n",
    "ax.plot(xx, split_norm.pdf(xx,a=res[0],loc=res[1],scale=res[2]), label='fit (no bounds)')\n",
    "\n",
    "bounds=[(0.2,5.0),(-100,100),(0,100)]\n",
    "res = stats.fit(split_norm, data,bounds=bounds)\n",
    "print(res)\n",
    "ax.plot(xx, split_norm.pdf(xx,a=res.params.a,loc=res.params.loc,scale=res.params.scale), label='fit (bounds)')\n",
    "ax.legend();"
   ]
  },
  {
   "cell_type": "markdown",
   "metadata": {},
   "source": [
    "Parallelize it!\n",
    "-----"
   ]
  },
  {
   "cell_type": "code",
   "execution_count": null,
   "metadata": {},
   "outputs": [],
   "source": [
    "import dask.dataframe as dd\n",
    "#from dask.multiprocessing import get"
   ]
  },
  {
   "cell_type": "code",
   "execution_count": null,
   "metadata": {},
   "outputs": [],
   "source": [
    "data = []\n",
    "for i in range(200) :\n",
    "    a = rng.uniform(2,10)\n",
    "    loc= rng.uniform(-20,50)\n",
    "    if i < 5 :\n",
    "        print(a,loc)\n",
    "    data.append(split_norm.rvs(a=a,loc=loc, size=20, random_state=rng))\n",
    "\n",
    "data = pd.DataFrame(data=data)"
   ]
  },
  {
   "cell_type": "code",
   "execution_count": null,
   "metadata": {},
   "outputs": [],
   "source": [
    "startTime = datetime.now()\n",
    "\n",
    "for i,row in data.iterrows() :\n",
    "    bounds=[(0.2,5.0),(-100,100),(0,100)] # a, loc, scale\n",
    "    res = stats.fit(split_norm,row.tolist(),bounds=bounds)\n",
    "    if not i % 100 :\n",
    "        print(i)\n",
    "    #print(res)\n",
    "\n",
    "elapsed_time = str(datetime.now()-startTime).split('.')[0]\n",
    "print(elapsed_time)"
   ]
  },
  {
   "cell_type": "code",
   "execution_count": null,
   "metadata": {},
   "outputs": [],
   "source": [
    "def fit_rowdata_splitnorm(row) :\n",
    "    #print(row)\n",
    "    srow = sorted(row.tolist())\n",
    "    dist = srow[-1] - srow[0]\n",
    "\n",
    "    # For some reason Dask processes the metadata rows as well, which are filled with ones.\n",
    "    # Basically skip these - they will disappear anyway in the output.\n",
    "    if dist == 0 :\n",
    "        return 0.0,0.0,0.0\n",
    "\n",
    "    bounds=[(0.2,5.0),(srow[0],srow[-1]),(0,dist)] # a, loc, scale\n",
    "    res = stats.fit(split_norm, row, bounds)\n",
    "    return res.params.a,res.params.loc,res.params.scale"
   ]
  },
  {
   "cell_type": "code",
   "execution_count": null,
   "metadata": {},
   "outputs": [],
   "source": [
    "startTime = datetime.now()\n",
    "\n",
    "ddata = dd.from_pandas(data, npartitions=20)\n",
    "\n",
    "# Too many problems\n",
    "#res = ddata.map_partitions(lambda df: df.apply((lambda row: fit_rowdata_splitnorm(row)),\n",
    "#                                               axis=1)).compute(scheduler='single-threaded')# 'processes'\n",
    "\n",
    "meta = meta={0: float, 1: float, 2: float}\n",
    "# single-threaded, processes, threads ...\n",
    "res = ddata.apply(fit_rowdata_splitnorm, axis=1,\n",
    "                  result_type='expand', meta=meta).compute(scheduler='processes')\n",
    "res.columns = ['a', 'loc','scale']\n",
    "\n",
    "elapsed_time = str(datetime.now()-startTime).split('.')[0]\n",
    "print(elapsed_time)"
   ]
  },
  {
   "cell_type": "code",
   "execution_count": null,
   "metadata": {},
   "outputs": [],
   "source": [
    "res"
   ]
  },
  {
   "cell_type": "markdown",
   "metadata": {},
   "source": [
    "Double-Gaussian distribution\n",
    "---------"
   ]
  },
  {
   "cell_type": "code",
   "execution_count": null,
   "metadata": {},
   "outputs": [],
   "source": [
    "from scipy.stats._continuous_distns import _norm_pdf\n",
    "from scipy.stats import norm"
   ]
  },
  {
   "cell_type": "code",
   "execution_count": null,
   "metadata": {},
   "outputs": [],
   "source": [
    "class double_gaussian_gen(rv_continuous):\n",
    "    r\"\"\"A double-Gaussian distribution.\n",
    "    loc2 and scale2 are defined *relative to loc and scale!*\n",
    "    \"\"\"\n",
    "    #def _argcheck(self, *Params):\n",
    "    #    return True\n",
    "    \n",
    "    def _get_support(self,loc2,scale2,frac):\n",
    "        # The lower and upper boundaries of x\n",
    "        return -float('inf'), float('inf')\n",
    "\n",
    "    def _shape_info(self):\n",
    "        # name, integrality=False, domain=(-np.inf, np.inf), inclusive=(True, True)\n",
    "        # Integrality: whether it is an integer or not.\n",
    "        return [_ShapeInfo(\"loc2\", False, (0, np.inf), (True, True)), # loc2 (affected by scale)\n",
    "                _ShapeInfo(\"scale2\", False, (0, np.inf), (False, False)), # scale2, also affected by scale\n",
    "                _ShapeInfo(\"frac\", False, (0, 1), (False, False))] # frac\n",
    "\n",
    "    def _pdf(self, x, loc2, scale2, frac):\n",
    "        \n",
    "        # a is \"loc2\", b is \"scale2\"\n",
    "        return ((1-frac)*_norm_pdf(x) + (frac)*_norm_pdf((x-loc2)/scale2)) * (1/((1-frac)+frac*scale2))\n",
    "\n",
    "double_gaussian = double_gaussian_gen(name=\"double_gaussian\")"
   ]
  },
  {
   "cell_type": "code",
   "execution_count": null,
   "metadata": {},
   "outputs": [],
   "source": [
    "fig,axes = plt.subplots(1,2,figsize=(16,6))\n",
    "axes = axes.flatten()\n",
    "\n",
    "loc2 = 5\n",
    "loc=5.0\n",
    "scale=2\n",
    "scale2=0.5\n",
    "frac=0.5\n",
    "rng = np.random.default_rng()\n",
    "data = double_gaussian.rvs(loc2=loc2,scale2=scale2,frac=frac,scale=scale,loc=loc,size=20, random_state=rng) # a=1,b=2,c=0.5\n",
    "sorted_data = sorted(data[:500])\n",
    "\n",
    "\n",
    "xhist = np.linspace(sorted_data[0],sorted_data[-1],100)\n",
    "xx = np.linspace(sorted_data[0],sorted_data[-1],1000)\n",
    "#xx = np.linspace(-10,40,1000)\n",
    "x_ppf = np.linspace(0.001,0.999,1000)\n",
    "\n",
    "ax = axes[0]\n",
    "ax.hist(data, density=True, histtype='stepfilled', alpha=0.2,bins=xhist,label='data');\n",
    "ax.plot(xx, double_gaussian.pdf(xx,loc2=loc2,scale2=scale2,frac=frac,scale=scale,loc=loc), label='pdf')\n",
    "ax.plot(xx, norm.pdf(xx,scale=scale,loc=loc), label='pdf')\n",
    "ax.set_ylim(bottom=0)\n",
    "\n",
    "ax = axes[1]\n",
    "ax.plot(x_ppf, double_gaussian.ppf(x_ppf,loc2=loc2,scale2=scale2,frac=frac,scale=scale,loc=loc), label='ppf (inverse of cdf)')\n",
    "ax.legend()\n",
    "\n",
    "ax = axes[0].twinx()\n",
    "ax.plot(xx, double_gaussian.cdf(xx,loc2=loc2,scale2=scale2,frac=frac,scale=scale,loc=loc), label='cdf',color='purple')\n",
    "ax.plot(xx, double_gaussian.sf(xx,loc2=loc2,scale2=scale2,frac=frac,scale=scale,loc=loc), label='sf',color='red')\n",
    "ax.set_ylim(bottom=0)\n",
    "ax.legend()\n",
    "axes[0].legend(loc=2)"
   ]
  },
  {
   "cell_type": "markdown",
   "metadata": {},
   "source": [
    "Fit with double-gaussian\n",
    "---------"
   ]
  },
  {
   "cell_type": "code",
   "execution_count": null,
   "metadata": {},
   "outputs": [],
   "source": [
    "loc2 = 5.0\n",
    "loc=0.0\n",
    "frac=0.5\n",
    "scale=1.0\n",
    "scale2=1.0\n",
    "rng = np.random.default_rng()\n",
    "data = double_gaussian.rvs(loc2=loc2,scale2=scale2,frac=frac,scale=scale,loc=loc,size=50, random_state=rng) # a=1,b=2,c=0.5\n",
    "\n",
    "#res = double_gaussian.fit(data)\n",
    "bounds=[(0,100),(0,5),(0,1),(-10,10),(0,2)] # a (loc2), b (scale2), c (frac), loc, scale\n",
    "res = stats.fit(double_gaussian, data,bounds=bounds)\n",
    "print(res)\n",
    "\n",
    "buffer = 0.2*(sorted(data)[-1] - sorted(data)[0])\n",
    "xlow = sorted(data)[0] - buffer\n",
    "xhigh = sorted(data)[-1] + buffer\n",
    "\n",
    "xhist = np.linspace(xlow,xhigh,100)\n",
    "xx = np.linspace(xlow,xhigh,1000)\n",
    "\n",
    "fig,ax = plt.subplots(1,1,figsize=(8,6))\n",
    "ax.hist(data, density=True, histtype='stepfilled', alpha=0.2,bins=xhist,label='data');\n",
    "ax.plot(xx, double_gaussian.pdf(xx,loc2=res.params.loc2,scale2=res.params.scale2,frac=res.params.frac,\n",
    "                                loc=res.params.loc,scale=res.params.scale), label='fit (no bounds)')\n",
    "\n",
    "#bounds=[(0.2,5.0),(-100,100),(0,100)]\n",
    "#res = stats.fit(split_norm, data,bounds=bounds)\n",
    "#print(res)\n",
    "#ax.plot(xx, split_norm.pdf(xx,a=res.params.a,loc=res.params.loc,scale=res.params.scale), label='fit (bounds)')\n",
    "#ax.legend();"
   ]
  }
 ],
 "metadata": {
  "kernelspec": {
   "display_name": "modernDataAnalysis",
   "language": "python",
   "name": "moderndataanalysis"
  },
  "language_info": {
   "codemirror_mode": {
    "name": "ipython",
    "version": 3
   },
   "file_extension": ".py",
   "mimetype": "text/x-python",
   "name": "python",
   "nbconvert_exporter": "python",
   "pygments_lexer": "ipython3",
   "version": "3.8.13"
  }
 },
 "nbformat": 4,
 "nbformat_minor": 4
}
