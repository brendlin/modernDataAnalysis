{
 "cells": [
  {
   "cell_type": "markdown",
   "metadata": {},
   "source": [
    "Front Matter\n",
    "========\n",
    "\n",
    "This is a quick notebook to explore the outputs of the Keras model."
   ]
  },
  {
   "cell_type": "code",
   "execution_count": null,
   "metadata": {},
   "outputs": [],
   "source": [
    "import matplotlib.pyplot as plt\n",
    "import numpy as np\n",
    "\n",
    "import tensorflow as tf\n",
    "print(tf.__version__)\n",
    "\n",
    "import pandas as pd\n",
    "import seaborn as sns\n",
    "\n",
    "%load_ext tensorboard\n",
    "%matplotlib inline\n"
   ]
  },
  {
   "cell_type": "markdown",
   "metadata": {},
   "source": [
    "Make an example dataset\n",
    "========="
   ]
  },
  {
   "cell_type": "code",
   "execution_count": null,
   "metadata": {},
   "outputs": [],
   "source": [
    "nPoints = 1000\n",
    "x_sig = 1 * np.random.randn(nPoints) + 1\n",
    "y_sig = 1 * np.random.randn(nPoints) + 1\n",
    "x_bkg = 1 * np.random.randn(nPoints*10) - 1\n",
    "y_bkg = 1 * np.random.randn(nPoints*10) - 1\n",
    "label = np.append(np.ones(len(x_sig)),np.zeros(len(x_bkg))).astype(int)"
   ]
  },
  {
   "cell_type": "code",
   "execution_count": null,
   "metadata": {},
   "outputs": [],
   "source": [
    "df = pd.DataFrame(list(zip(np.append(x_sig,x_bkg),\n",
    "                           np.append(y_sig,y_bkg),\n",
    "                           label)),columns=['x','y','label'])"
   ]
  },
  {
   "cell_type": "code",
   "execution_count": null,
   "metadata": {},
   "outputs": [],
   "source": [
    "sns.pairplot(df,vars=['x', 'y'],hue='label');"
   ]
  },
  {
   "cell_type": "markdown",
   "metadata": {},
   "source": [
    "Plot correlations of variables\n",
    "----------"
   ]
  },
  {
   "cell_type": "code",
   "execution_count": null,
   "metadata": {},
   "outputs": [],
   "source": [
    "tmp = sns.heatmap(df[df['label'] == 1][['x','y']].corr(),annot=True,vmin=-1,vmax=1)\n",
    "b, t = plt.ylim() # discover the values for bottom and top\n",
    "plt.ylim(b + 0.5, t - 0.5) # update the ylim(bottom, top) values\n",
    "plt.show()"
   ]
  },
  {
   "cell_type": "markdown",
   "metadata": {},
   "source": [
    "Make the Keras Model, compile and fit\n",
    "-------------"
   ]
  },
  {
   "cell_type": "code",
   "execution_count": null,
   "metadata": {},
   "outputs": [],
   "source": [
    "model = tf.keras.models.Sequential([\n",
    "#    tf.keras.layers.Flatten(input_shape=(28, 28)),\n",
    "    tf.keras.layers.Dense(5, name='first_dense', input_shape=(2,), activation='relu'),\n",
    "    tf.keras.layers.Dense(5, name='middle_dense', activation='relu'),\n",
    "#    tf.keras.layers.Dropout(0.2),\n",
    "    tf.keras.layers.Dense(1, name='last_dense', activation='sigmoid') # sigmoid for binary; softmax for multi?\n",
    "    ])\n",
    "\n",
    "##### TODO:\n",
    "#probability_model = tf.keras.Sequential([\n",
    "#  model,\n",
    "#  tf.keras.layers.Softmax()\n",
    "#])"
   ]
  },
  {
   "cell_type": "code",
   "execution_count": null,
   "metadata": {},
   "outputs": [],
   "source": [
    "model.compile(optimizer='adam',\n",
    "              loss='binary_crossentropy',\n",
    "              metrics=['accuracy'])"
   ]
  },
  {
   "cell_type": "code",
   "execution_count": null,
   "metadata": {},
   "outputs": [],
   "source": [
    "model.fit(\n",
    "    df[['x','y']].values,\n",
    "    df['label'].values,\n",
    "    batch_size=64,\n",
    "    epochs=20,\n",
    "    verbose=2)"
   ]
  },
  {
   "cell_type": "markdown",
   "metadata": {},
   "source": [
    "Visualize the Model Structure\n",
    "----------"
   ]
  },
  {
   "cell_type": "code",
   "execution_count": null,
   "metadata": {},
   "outputs": [],
   "source": [
    "#import pydot as pyd\n",
    "#import graphviz\n",
    "#tf.keras.utils.plot_model(model, to_file='model.png', show_shapes=True, show_layer_names=True,\n",
    "#    rankdir='TB', expand_nested=True, dpi=96)\n",
    "#model.summary()"
   ]
  },
  {
   "cell_type": "code",
   "execution_count": null,
   "metadata": {},
   "outputs": [],
   "source": [
    "# version 1\n",
    "# from IPython.display import SVG\n",
    "# SVG(tf.keras.utils.model_to_dot(model,expand_nested=True).create(prog='dot', format='svg'))\n",
    "# version 2\n",
    "#tf.keras.utils.plot_model(model, to_file='model_plot.png', show_shapes=True, show_layer_names=True,expand_nested=True)"
   ]
  },
  {
   "cell_type": "markdown",
   "metadata": {},
   "source": [
    "Evaluate the performance\n",
    "==========="
   ]
  },
  {
   "cell_type": "code",
   "execution_count": null,
   "metadata": {},
   "outputs": [],
   "source": [
    "print(model.metrics_names)\n",
    "model.evaluate(df[['x','y']].values,df['label'].values,verbose=2)"
   ]
  },
  {
   "cell_type": "code",
   "execution_count": null,
   "metadata": {},
   "outputs": [],
   "source": [
    "# This sets things as 1 or 0\n",
    "# based on whether or not is is above or below 0.5\n",
    "df['binary_prediction'] = model.predict_classes(df[['x','y']].values)\n",
    "# This is the continuous variable\n",
    "df['discriminant'] = model.predict(df[['x','y']].values)"
   ]
  },
  {
   "cell_type": "markdown",
   "metadata": {},
   "source": [
    "Confusion Matrix\n",
    "-------"
   ]
  },
  {
   "cell_type": "code",
   "execution_count": null,
   "metadata": {},
   "outputs": [],
   "source": [
    "from sklearn.metrics import confusion_matrix"
   ]
  },
  {
   "cell_type": "code",
   "execution_count": null,
   "metadata": {},
   "outputs": [],
   "source": [
    "confusion_matrix(df['binary_prediction'].values,df['label'].values)"
   ]
  },
  {
   "cell_type": "markdown",
   "metadata": {},
   "source": [
    "Plotting the raw discriminants\n",
    "--------------"
   ]
  },
  {
   "cell_type": "code",
   "execution_count": null,
   "metadata": {},
   "outputs": [],
   "source": [
    "plt.hist(df[df['label'] ==0]['discriminant'],bins=20,label='bkg',density=True,histtype='step',lw=2)\n",
    "plt.hist(df[df['label'] ==1]['discriminant'],bins=20,label='sig',density=True,histtype='step',lw=2)\n",
    "plt.legend()\n",
    "plt.yscale('log')"
   ]
  },
  {
   "cell_type": "markdown",
   "metadata": {},
   "source": [
    "ROC Curve\n",
    "----------"
   ]
  },
  {
   "cell_type": "code",
   "execution_count": null,
   "metadata": {},
   "outputs": [],
   "source": [
    "from sklearn.metrics import roc_curve\n",
    "fpr_keras, tpr_keras, thresholds_keras = roc_curve(df['label'].values, df['discriminant'].values)\n",
    "from sklearn.metrics import auc\n",
    "auc_keras = auc(fpr_keras, tpr_keras)"
   ]
  },
  {
   "cell_type": "code",
   "execution_count": null,
   "metadata": {},
   "outputs": [],
   "source": [
    "plt.figure(1)\n",
    "plt.plot([0, 1], [0, 1], 'k--')\n",
    "plt.plot(fpr_keras, tpr_keras, label='Keras (area = {:.3f})'.format(auc_keras))\n",
    "plt.ylabel('signal efficiency (true positive rate)')\n",
    "plt.xlabel('bkg efficiency (false positive rate)')"
   ]
  },
  {
   "cell_type": "markdown",
   "metadata": {},
   "source": [
    "2-D Gradients\n",
    "----------"
   ]
  },
  {
   "cell_type": "code",
   "execution_count": null,
   "metadata": {},
   "outputs": [],
   "source": [
    "#Since probability is a continuous value from 0 to 1, we are getting many contours.\n",
    "#If your visualization is restricted to 2 classes (output is 2D softmax vector) you can use this simple code\n",
    "\n",
    "def plotModelOut(x,y,model):\n",
    "    '''\n",
    "    x,y: 2D MeshGrid input\n",
    "    model: Keras Model API Object\n",
    "    '''\n",
    "    grid = np.stack((x,y))\n",
    "    grid = grid.T.reshape(-1,2)\n",
    "    outs = model.predict(grid)\n",
    "    y1 = outs.T[0].reshape(x.shape[0],x.shape[0])\n",
    "    plt.contourf(x,y,y1,cmap='binary')\n",
    "    plt.colorbar()\n",
    "\n",
    "    #plt.show()\n",
    "\n",
    "xx, yy = np.meshgrid(np.linspace(-4,4,100), np.linspace(-4,4,100))\n",
    "plotModelOut(xx,yy,model)\n",
    "\n",
    "plt.scatter(df['x'][df['label'] == 0],df['y'][df['label'] == 0])\n",
    "plt.scatter(df['x'][df['label'] == 1],df['y'][df['label'] == 1])\n",
    "\n",
    "plt.xlim([-4,4])\n",
    "plt.ylim([-4,4])\n",
    "plt.show()"
   ]
  },
  {
   "cell_type": "code",
   "execution_count": null,
   "metadata": {},
   "outputs": [],
   "source": []
  }
 ],
 "metadata": {
  "kernelspec": {
   "display_name": "Python 3",
   "language": "python",
   "name": "python3"
  },
  "language_info": {
   "codemirror_mode": {
    "name": "ipython",
    "version": 3
   },
   "file_extension": ".py",
   "mimetype": "text/x-python",
   "name": "python",
   "nbconvert_exporter": "python",
   "pygments_lexer": "ipython3",
   "version": "3.8.2"
  }
 },
 "nbformat": 4,
 "nbformat_minor": 2
}
