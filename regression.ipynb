{
 "cells": [
  {
   "cell_type": "markdown",
   "metadata": {},
   "source": [
    "Regression Tools\n",
    "========\n",
    "\n",
    "Regression Tools:\n",
    " - **Linear regression** with Least Squares minimization\n",
    " - **Logistic regression** (for binary output variables)\n",
    " - **Naive Bayes** (How ?????)\n",
    " - **Support Vector Machines** (How ????)\n",
    "\n",
    "Tools that are technically regression algorithms, but who would seriously use them:\n",
    " - kNearestNeighbor\n",
    " - Boosted Decision Tree (cannot extrapolate outside the sample range)"
   ]
  },
  {
   "cell_type": "code",
   "execution_count": null,
   "metadata": {},
   "outputs": [],
   "source": [
    "import numpy as np\n",
    "import matplotlib.pyplot as plt\n",
    "plt.rcParams.update({'font.size': 15})"
   ]
  },
  {
   "cell_type": "markdown",
   "metadata": {},
   "source": [
    "Basics: Fitting a curve (including y-errors)\n",
    "========"
   ]
  },
  {
   "cell_type": "code",
   "execution_count": null,
   "metadata": {},
   "outputs": [],
   "source": [
    "from scipy.optimize import curve_fit"
   ]
  },
  {
   "cell_type": "code",
   "execution_count": null,
   "metadata": {},
   "outputs": [],
   "source": [
    "x = np.arange(5,100)\n",
    "y = []\n",
    "for i in x :\n",
    "    y.append(np.random.poisson(i))"
   ]
  },
  {
   "cell_type": "code",
   "execution_count": null,
   "metadata": {},
   "outputs": [],
   "source": [
    "def linear_model(x, a, b):\n",
    "    return a * x + b\n",
    "\n",
    "p_optimal, p_covariance = curve_fit(linear_model, x, y, sigma=np.sqrt(y))\n",
    "print('Optimal parameters:',p_optimal)\n",
    "print('Covariance:',p_covariance)"
   ]
  },
  {
   "cell_type": "code",
   "execution_count": null,
   "metadata": {},
   "outputs": [],
   "source": [
    "fig, ax = plt.subplots()\n",
    "ax.errorbar(x,y,yerr=np.sqrt(y),fmt='o',label='data');\n",
    "ax.plot(x, linear_model(x, *p_optimal),'r',label='fit')\n",
    "ax.legend();"
   ]
  }
 ],
 "metadata": {
  "kernelspec": {
   "display_name": "Python 3",
   "language": "python",
   "name": "python3"
  },
  "language_info": {
   "codemirror_mode": {
    "name": "ipython",
    "version": 3
   },
   "file_extension": ".py",
   "mimetype": "text/x-python",
   "name": "python",
   "nbconvert_exporter": "python",
   "pygments_lexer": "ipython3",
   "version": "3.8.2"
  }
 },
 "nbformat": 4,
 "nbformat_minor": 4
}
