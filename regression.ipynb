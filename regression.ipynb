{
 "cells": [
  {
   "cell_type": "markdown",
   "metadata": {},
   "source": [
    "Regression Tools\n",
    "========\n",
    "\n",
    "Regression Tools:\n",
    " - **Linear regression** with Least Squares minimization\n",
    " - **Logistic regression** (for binary output variables)\n",
    " - **Naive Bayes** (How ?????)\n",
    " - **Support Vector Machines** (How ????)\n",
    "\n",
    "Tools that are technically regression algorithms, but who would seriously use them:\n",
    " - kNearestNeighbor\n",
    " - Boosted Decision Tree (cannot extrapolate outside the sample range)"
   ]
  },
  {
   "cell_type": "code",
   "execution_count": null,
   "metadata": {},
   "outputs": [],
   "source": []
  }
 ],
 "metadata": {
  "kernelspec": {
   "display_name": "Python 3",
   "language": "python",
   "name": "python3"
  },
  "language_info": {
   "codemirror_mode": {
    "name": "ipython",
    "version": 3
   },
   "file_extension": ".py",
   "mimetype": "text/x-python",
   "name": "python",
   "nbconvert_exporter": "python",
   "pygments_lexer": "ipython3",
   "version": "3.8.2"
  }
 },
 "nbformat": 4,
 "nbformat_minor": 4
}
