{
 "cells": [
  {
   "cell_type": "markdown",
   "metadata": {},
   "source": [
    "Frontmatter\n",
    "-------\n"
   ]
  },
  {
   "cell_type": "code",
   "execution_count": null,
   "metadata": {},
   "outputs": [],
   "source": [
    "import numpy as np\n",
    "import matplotlib.pyplot as plt"
   ]
  },
  {
   "cell_type": "markdown",
   "metadata": {},
   "source": [
    "Useful Snippets\n",
    "---------"
   ]
  },
  {
   "cell_type": "code",
   "execution_count": null,
   "metadata": {},
   "outputs": [],
   "source": [
    "# Array-version of range\n",
    "# np.arange(3,10)\n",
    "\n",
    "# Linearly spaced numbers between A and B\n",
    "# np.linspace(0,10,21)\n",
    "\n",
    "# List of normally distributed numbers. That last line is the shape tuple.\n",
    "# np.random.normal(0,1,(10))\n",
    "\n",
    "# Random numbers between e.g. 0 and 1 -- That last line is the shape tuple.\n",
    "np.random.uniform(0,1,(10))"
   ]
  },
  {
   "cell_type": "markdown",
   "metadata": {},
   "source": [
    "Binary Search Tree\n",
    "-----\n",
    "A tree graph that facilitates searching of e.g. a list. Every node has a value associated to it, and a left- and right- vertex. The left (right) sub-tree contains values less than (greater than) that value. This takes order log-N time, rather than linear time.\n",
    "\n",
    "Linked List\n",
    "------\n",
    "A collection of objects, each of which has a `next()` function that directs you to the next object, such that they can be executed sequentially.\n",
    "\n",
    "Hashing, Hash Table\n",
    "-------\n",
    "\n",
    "Hashing is the process of converting e.g. a longer string to a short one, that can be added to e.g. a **hash table**, in order to improve the lookup time in tables or databases.\n",
    "\n",
    "A hash function uses a static function to convert the string (e.g. 'Jonathan Smith') into a hash (e.g. `0x1A`) that is *probably* unique, so that when you subsequently search for the item 'Jonathan Smith' you can quickly convert it to its hash and perform the lookup on the hash. If there is already an object in the slot, then there are usually simple ways to deal with this (e.g. just perform a normal search among the 2-3 objects stored in that hash).\n",
    "\n",
    "Dynamic Programming\n",
    "---------\n",
    "\n",
    "If I understand correctly, it is the use of the combination of **recursion** and **memoisation**, e.g. breaking down the problem into smaller sub-problems and recursing them; however, this can significantly increase execution time if  recursion paths are traversed repeatedly, and thus the speed can be improved by means of storing intermediate results (memoisation).\n",
    "\n",
    "Memoisation\n",
    "---------\n",
    "\n",
    "You have done this before -- caching intermediate results in a lookup table to speed up certain functions.\n",
    "\n",
    "\n",
    "Time complexity vs Space Complexity\n",
    "---------\n",
    "\n",
    "As it sounds, this relates to how time-intensive vs how memory-intensive a procedure is. Apparently you should also consider the \"size of the stack\" when considering space complexity.\n"
   ]
  },
  {
   "cell_type": "markdown",
   "metadata": {},
   "source": [
    "Generators, and Yield\n",
    "------\n",
    "Yield is used for generators. See example below (congratulations, you made a generator!).\n",
    "\n",
    "**Why use a generator instead of a list**: A generator generates its results on-demand, rather than requiring memory to store all results when they are just lying around."
   ]
  },
  {
   "cell_type": "code",
   "execution_count": null,
   "metadata": {},
   "outputs": [],
   "source": [
    "def factorials():\n",
    "    \"\"\"Corecursive generator.\"\"\"\n",
    "    n, f = 0, 1\n",
    "    while n < 10:\n",
    "        yield f\n",
    "        n, f = n + 1, f * (n + 1)\n",
    "        \n",
    "a = factorials()\n",
    "for i in a :\n",
    "    print (i)"
   ]
  },
  {
   "cell_type": "markdown",
   "metadata": {},
   "source": [
    "Embarassingly useful python builtins\n",
    "========="
   ]
  },
  {
   "cell_type": "code",
   "execution_count": null,
   "metadata": {},
   "outputs": [],
   "source": [
    "all([True,True,True])\n",
    "any([False,False,True])\n",
    "bin(5)\n",
    "oct(7)\n",
    "hex(15)\n",
    "it = iter([1,2,3,4,5])\n",
    "next(it)\n",
    "next(it)\n",
    "for a,b in zip([1,1,1],[2,2,2]) :\n",
    "    print (a,b)\n",
    "a = tuple((1,2,3))\n",
    "# a[0] = 2 ## Tuple does not support item assignment! Tuples are immutable!"
   ]
  },
  {
   "cell_type": "markdown",
   "metadata": {},
   "source": [
    "Challenges\n",
    "======"
   ]
  },
  {
   "cell_type": "code",
   "execution_count": null,
   "metadata": {},
   "outputs": [],
   "source": [
    "# Time it took: 13 minutes (but I got something wrong...)\n",
    "\n",
    "# \"special\" characters\n",
    "threshold_list = [1000,900,500,400,100,90,50,40,10,9,5,4,1]\n",
    "threshold_str = dict()\n",
    "threshold_str[1] = 'I'\n",
    "threshold_str[5] = 'V'\n",
    "threshold_str[4] = 'IV'\n",
    "threshold_str[9] = 'IX'\n",
    "threshold_str[10] = 'X'\n",
    "threshold_str[40] = 'XL'\n",
    "threshold_str[50] = 'L'\n",
    "threshold_str[90] = 'XC'\n",
    "threshold_str[100] = 'C'\n",
    "threshold_str[400] = 'CD'\n",
    "threshold_str[500] = 'D'\n",
    "threshold_str[900] = 'DM'\n",
    "threshold_str[1000] = 'M'\n",
    "\n",
    "def IntToRomanNumerals(n) :\n",
    "    # input: is a positive integer\n",
    "    # output: string\n",
    "    outstr = ''\n",
    "\n",
    "    if n > 3999 :\n",
    "        print('Error - number cannot be expressed in roman numerals.')\n",
    "\n",
    "    for th in threshold_list :\n",
    "        for i in range(n//th) :\n",
    "            outstr += threshold_str[th]\n",
    "            n -= th\n",
    "\n",
    "    return outstr\n",
    "\n",
    "# I  II III IV V VI ... IX X\n",
    "\n",
    "IntToRomanNumerals(89)"
   ]
  },
  {
   "cell_type": "code",
   "execution_count": null,
   "metadata": {},
   "outputs": [],
   "source": [
    "# Time it took: 3.5 minutes\n",
    "def FibonacciSequence(n) :\n",
    "    # input: the length of the sequence you want out\n",
    "    # output: sequence (list)\n",
    "    the_list = [0,1]\n",
    "    \n",
    "    if n < 3 :\n",
    "        return the_list[:n]\n",
    "\n",
    "    for i in range(2,n) :\n",
    "        the_list.append(the_list[-1] + the_list[-2])\n",
    "    \n",
    "    return the_list\n",
    "\n",
    "FibonacciSequence(10)"
   ]
  },
  {
   "cell_type": "code",
   "execution_count": null,
   "metadata": {},
   "outputs": [],
   "source": [
    "def mergeSortedArrays(*args) :\n",
    "    # input python lists\n",
    "    # output python list\n",
    "\n",
    "    max = 999\n",
    "    \n",
    "    iters = []\n",
    "    for i in args :\n",
    "        iters.append(iter(i))\n",
    "    \n",
    "    currently_considered = []\n",
    "\n",
    "    # First consider the first item in each list\n",
    "    for it in iters :\n",
    "        currently_considered.append(next(it))\n",
    "\n",
    "    out = []\n",
    "\n",
    "    while True :\n",
    "\n",
    "        if len(currently_considered) == 0 :\n",
    "            break\n",
    "\n",
    "        min_loc = np.argmin(currently_considered)\n",
    "        out.append(currently_considered[min_loc])\n",
    "        #print(out)\n",
    "\n",
    "        # replace that item with the next one from the parent list\n",
    "        try : \n",
    "            currently_considered[min_loc] = next(iters[min_loc])\n",
    "        except StopIteration :\n",
    "            currently_considered.pop(min_loc)\n",
    "            iters.pop(min_loc)\n",
    "        \n",
    "    return out\n",
    "\n",
    "a = [1,4,9]\n",
    "b = [2,6]\n",
    "c = [3, 8, 12, 19]\n",
    "mergeSortedArrays(a,b,c)"
   ]
  },
  {
   "cell_type": "code",
   "execution_count": null,
   "metadata": {},
   "outputs": [],
   "source": [
    "# Staircase problem:\n",
    "# How many ways can you get up the stairs, if you can go 1 or two steps each time?\n",
    "\n",
    "# - Probably a good candidate for recursion\n",
    "# - Also probably a good candidate for memoization\n",
    "\n",
    "def numWaysOld(n) :\n",
    "\n",
    "    if n == 1 :\n",
    "        return 1\n",
    "    if n == 2 :\n",
    "        return 2\n",
    "    \n",
    "    return numWays(n-1) + numWays(n-2)\n",
    "\n",
    "def numWays(n,cache={}) :\n",
    "    # memoized version\n",
    "    \n",
    "    if n == 1 :\n",
    "        cache[1] = 1\n",
    "        return 1\n",
    "    if n == 2 :\n",
    "        cache[2] = 2\n",
    "        return 2\n",
    "    \n",
    "    nm1 = cache[n-1] if n-1 in cache else numWays(n-1,cache)\n",
    "    nm2 = cache[n-2] if n-2 in cache else numWays(n-2,cache)\n",
    "    \n",
    "    result = nm1 + nm2\n",
    "    cache[n] = result\n",
    "    return result\n",
    "\n",
    "#numWays(1) = 1\n",
    "#numWays(2) = 2\n",
    "#numWays(3) = numWays(2) + numWays(1)\n",
    "#numWays(4) = numWays(3) + numWays(2)\n",
    "#numWays(5) = numWays(4) + numWays(3)\n",
    "\n",
    "print(numWays(10))\n",
    "print(numWaysOld(10))\n",
    "\n",
    "%timeit numWays(5)\n",
    "%timeit numWaysOld(5)"
   ]
  },
  {
   "cell_type": "code",
   "execution_count": null,
   "metadata": {},
   "outputs": [],
   "source": [
    "# Check if two rectangles overlap.\n",
    "# Time it took: 13 minutes\n",
    "def doesOverlap(l1,r1,l2,r2) :\n",
    "    \n",
    "    # Assuming that you assigned left and right correctly\n",
    "    \n",
    "    # Check if left right x coordinate of 1 is less than left x coordinate of 2\n",
    "    if r1[0] < l2[0] :\n",
    "        return False\n",
    "    \n",
    "    # Check if left right x coordinate of 2 is less than left x coordinate of 1\n",
    "    if r2[0] < l1[0] :\n",
    "        return False\n",
    "    \n",
    "    # Check if left right y coordinate of 1 is less than left x coordinate of 2\n",
    "    if r1[1] < l2[1] :\n",
    "        return False\n",
    "    \n",
    "    # Check if left right y coordinate of 2 is less than left x coordinate of 1\n",
    "    if r2[1] < l1[1] :\n",
    "        return False    \n",
    "    \n",
    "    return True\n",
    "\n",
    "doesOverlap((0,0),(2,2),  (2.1,-999),(3,3))"
   ]
  },
  {
   "cell_type": "code",
   "execution_count": null,
   "metadata": {},
   "outputs": [],
   "source": [
    "# 7 minutes 42 seconds\n",
    "def pairsThatSumToN(n,the_list) :\n",
    "    # input is some sorted list\n",
    "    # and the output is a list of pairs\n",
    "    \n",
    "    out = []\n",
    "    #out.append([5,5])\n",
    "    \n",
    "    for i,iitem in enumerate(the_list) :\n",
    "        # Start at the next-highest item to avoid double-counting pairs\n",
    "        for jitem in the_list[i+1:] :\n",
    "\n",
    "            #print(iitem,jitem)\n",
    "            \n",
    "            if iitem + jitem > n :\n",
    "                #print('breaking')\n",
    "                break\n",
    "            \n",
    "            # checking the condition\n",
    "            if iitem + jitem == n :\n",
    "                out.append([iitem,jitem])\n",
    "    \n",
    "    return out\n",
    "\n",
    "pairsThatSumToN(10,[1,2,5,5,8,10,15])"
   ]
  },
  {
   "cell_type": "code",
   "execution_count": null,
   "metadata": {},
   "outputs": [],
   "source": [
    "# Coin change problem - Time it took: 16:30\n",
    "# Given a set of denominations, return the smallest number of coins for a given value\n",
    "# Use recursion\n",
    "# Cache intermediate results\n",
    "def changeCoins(value, avail_denominations) :\n",
    "    # available_denominations: set of numbers in descending order\n",
    "    # value: is the value of change that you need to return\n",
    "    \n",
    "    # Returns: the list of coins to give to the customer\n",
    "    return_list = []\n",
    "    #return_list += [10,10]\n",
    "    \n",
    "    for iloc,i in enumerate(avail_denominations) :\n",
    "\n",
    "        remainder = value - i\n",
    "        if remainder < 0 :\n",
    "            continue\n",
    "        \n",
    "        if remainder == 0 :\n",
    "            return [i]\n",
    "\n",
    "        # if remainder > 0:\n",
    "        lower_tree = changeCoins(remainder,avail_denominations[iloc:])\n",
    "        if lower_tree :\n",
    "            return [i] + lower_tree\n",
    "            #if not, you have to keep going down the list\n",
    "    \n",
    "    return []\n",
    "\n",
    "changeCoins(17, [10,5,3])\n"
   ]
  },
  {
   "cell_type": "code",
   "execution_count": null,
   "metadata": {},
   "outputs": [],
   "source": [
    "# Sort a list (from DirektBeratung -- and edited afterward.)\n",
    "from copy import copy\n",
    "\n",
    "def MySort(oldList) :\n",
    "    # Input: simple list\n",
    "    # Output: a sorted list\n",
    "    newList = []\n",
    "    newList.append(oldList.pop(0))\n",
    "    \n",
    "    i_old = 0\n",
    "    i_new = 0\n",
    "    \n",
    "    # Loop over old \n",
    "    while True : \n",
    "        #print (i_old,i_new,newList,oldList)\n",
    "        if oldList[i_old] <= newList[i_new] :\n",
    "            # Insert this element at that spot\n",
    "            newList.insert(i_new,oldList.pop(i_old))\n",
    "            # Go back to the beginning of the new list\n",
    "            i_new = 0\n",
    "        elif i_new == len(newList)-1 :\n",
    "            # Append this element to the end\n",
    "            newList.append(oldList.pop(i_old))\n",
    "            # Go back to the beginning of the new list\n",
    "            i_new = 0\n",
    "        elif i_old == len(oldList)-1 and i_new == len(newList)-1 :\n",
    "            # Go back to the beginning of the orig list\n",
    "            i_old = 0\n",
    "            i_new = 0\n",
    "        else :\n",
    "            # Check against the next one in the new list\n",
    "            i_new += 1\n",
    "\n",
    "        if len(oldList) == 0 :\n",
    "            break\n",
    "\n",
    "    return newList\n",
    "\n",
    "MySort([3,5,4,2,19,2,4,6,2,9,5,15])"
   ]
  },
  {
   "cell_type": "markdown",
   "metadata": {},
   "source": [
    "Vattenfall Challenge\n",
    "--------"
   ]
  },
  {
   "cell_type": "code",
   "execution_count": null,
   "metadata": {},
   "outputs": [],
   "source": [
    "import numpy as np\n",
    "import pandas as pd\n",
    "import matplotlib.pyplot as plt\n",
    "import seaborn as sns\n",
    "plt.rcParams.update({'font.size': 15})\n",
    "# fig,ax = plt.subplots(figsize=(8,6))"
   ]
  },
  {
   "cell_type": "code",
   "execution_count": null,
   "metadata": {},
   "outputs": [],
   "source": [
    "x = np.random.normal(0,1,(1000,1000))"
   ]
  },
  {
   "cell_type": "code",
   "execution_count": null,
   "metadata": {},
   "outputs": [],
   "source": [
    "y = np.random.normal(0,1,(1000))\n",
    "from scipy.optimize import curve_fit"
   ]
  },
  {
   "cell_type": "code",
   "execution_count": null,
   "metadata": {},
   "outputs": [],
   "source": [
    "fig,ax = plt.subplots(figsize=(8,6))\n",
    "ax.plot(y)"
   ]
  },
  {
   "cell_type": "code",
   "execution_count": null,
   "metadata": {},
   "outputs": [],
   "source": [
    "def linear_model(x, a, b):\n",
    "    return a * x[0] + b * x[1]\n",
    "\n",
    "p_optimal, p_covariance = curve_fit(linear_model, x, y)\n",
    "print('Optimal parameters:',p_optimal)\n",
    "print('Covariance:',p_covariance)"
   ]
  },
  {
   "cell_type": "code",
   "execution_count": null,
   "metadata": {},
   "outputs": [],
   "source": [
    "## y = a * x1 + b * x2"
   ]
  },
  {
   "cell_type": "code",
   "execution_count": null,
   "metadata": {},
   "outputs": [],
   "source": [
    "x.shape"
   ]
  }
 ],
 "metadata": {
  "kernelspec": {
   "display_name": "Python 3",
   "language": "python",
   "name": "python3"
  },
  "language_info": {
   "codemirror_mode": {
    "name": "ipython",
    "version": 3
   },
   "file_extension": ".py",
   "mimetype": "text/x-python",
   "name": "python",
   "nbconvert_exporter": "python",
   "pygments_lexer": "ipython3",
   "version": "3.8.2"
  }
 },
 "nbformat": 4,
 "nbformat_minor": 4
}
