{
 "cells": [
  {
   "cell_type": "markdown",
   "metadata": {},
   "source": [
    "Frontmatter\n",
    "-------\n"
   ]
  },
  {
   "cell_type": "code",
   "execution_count": null,
   "metadata": {},
   "outputs": [],
   "source": [
    "import numpy as np\n",
    "import matplotlib.pyplot as plt"
   ]
  },
  {
   "cell_type": "markdown",
   "metadata": {},
   "source": [
    "Useful Snippets\n",
    "---------"
   ]
  },
  {
   "cell_type": "code",
   "execution_count": null,
   "metadata": {},
   "outputs": [],
   "source": [
    "# Array-version of range\n",
    "# np.arange(3,10)\n",
    "\n",
    "# Linearly spaced numbers between A and B\n",
    "# np.linspace(0,10,21)\n",
    "\n",
    "# List of normally distributed numbers. That last line is the shape tuple.\n",
    "# np.random.normal(0,1,(10))\n",
    "\n",
    "# Random numbers between e.g. 0 and 1 -- That last line is the shape tuple.\n",
    "np.random.uniform(0,1,(10))"
   ]
  },
  {
   "cell_type": "markdown",
   "metadata": {},
   "source": [
    "Binary Search Tree\n",
    "-----\n",
    "A tree graph that facilitates searching of e.g. a list. Every node has a value associated to it, and a left- and right- vertex. The left (right) sub-tree contains values less than (greater than) that value. This takes order log-N time, rather than linear time.\n",
    "\n",
    "Linked List\n",
    "------\n",
    "A collection of objects, each of which has a `next()` function that directs you to the next object, such that they can be executed sequentially.\n",
    "\n",
    "Hashing, Hash Table\n",
    "-------\n",
    "\n",
    "Hashing is the process of converting e.g. a longer string to a short one, that can be added to e.g. a **hash table**, in order to improve the lookup time in tables or databases.\n",
    "\n",
    "A hash function uses a static function to convert the string (e.g. 'Jonathan Smith') into a hash (e.g. `0x1A`) that is *probably* unique, so that when you subsequently search for the item 'Jonathan Smith' you can quickly convert it to its hash and perform the lookup on the hash. If there is already an object in the slot, then there are usually simple ways to deal with this (e.g. just perform a normal search among the 2-3 objects stored in that hash).\n",
    "\n",
    "Dynamic Programming\n",
    "---------\n",
    "\n",
    "If I understand correctly, it is the use of the combination of **recursion** and **memoisation**, e.g. breaking down the problem into smaller sub-problems and recursing them; however, this can significantly increase execution time if  recursion paths are traversed repeatedly, and thus the speed can be improved by means of storing intermediate results (memoisation).\n",
    "\n",
    "Memoisation\n",
    "---------\n",
    "\n",
    "You have done this before -- caching intermediate results in a lookup table to speed up certain functions.\n",
    "\n",
    "\n",
    "Time complexity vs Space Complexity\n",
    "---------\n",
    "\n",
    "As it sounds, this relates to how time-intensive vs how memory-intensive a procedure is. Apparently you should also consider the \"size of the stack\" when considering space complexity.\n"
   ]
  },
  {
   "cell_type": "code",
   "execution_count": null,
   "metadata": {},
   "outputs": [],
   "source": []
  },
  {
   "cell_type": "code",
   "execution_count": null,
   "metadata": {},
   "outputs": [],
   "source": [
    "# Time it took: 13 minutes (but I got something wrong...)\n",
    "\n",
    "# \"special\" characters\n",
    "threshold_list = [1000,900,500,400,100,90,50,40,10,9,5,4,1]\n",
    "threshold_str = dict()\n",
    "threshold_str[1] = 'I'\n",
    "threshold_str[5] = 'V'\n",
    "threshold_str[4] = 'IV'\n",
    "threshold_str[9] = 'IX'\n",
    "threshold_str[10] = 'X'\n",
    "threshold_str[40] = 'XL'\n",
    "threshold_str[50] = 'L'\n",
    "threshold_str[90] = 'XC'\n",
    "threshold_str[100] = 'C'\n",
    "threshold_str[400] = 'CD'\n",
    "threshold_str[500] = 'D'\n",
    "threshold_str[900] = 'DM'\n",
    "threshold_str[1000] = 'M'\n",
    "\n",
    "def IntToRomanNumerals(n) :\n",
    "    # input: is a positive integer\n",
    "    # output: string\n",
    "    outstr = ''\n",
    "\n",
    "    if n > 3999 :\n",
    "        print('Error - number cannot be expressed in roman numerals.')\n",
    "\n",
    "    for th in threshold_list :\n",
    "        for i in range(n//th) :\n",
    "            outstr += threshold_str[th]\n",
    "            n -= th\n",
    "\n",
    "    return outstr\n",
    "\n",
    "# I  II III IV V VI ... IX X\n",
    "\n",
    "IntToRomanNumerals(89)"
   ]
  },
  {
   "cell_type": "code",
   "execution_count": null,
   "metadata": {},
   "outputs": [],
   "source": [
    "# Time it took: 3.5 minutes\n",
    "def FibonacciSequence(n) :\n",
    "    # input: the length of the sequence you want out\n",
    "    # output: sequence (list)\n",
    "    the_list = [0,1]\n",
    "    \n",
    "    if n < 3 :\n",
    "        return the_list[:n]\n",
    "\n",
    "    for i in range(2,n) :\n",
    "        the_list.append(the_list[-1] + the_list[-2])\n",
    "    \n",
    "    return the_list\n",
    "\n",
    "FibonacciSequence(10)"
   ]
  },
  {
   "cell_type": "code",
   "execution_count": null,
   "metadata": {},
   "outputs": [],
   "source": [
    "# This one was hard... still not finished.\n",
    "def mergeSortedArrays(*args) :\n",
    "    import numpy as np\n",
    "    ret_array = []\n",
    "    print(len(args),args)\n",
    "    \n",
    "    indices = [0]*len(args)\n",
    "    print(indices)\n",
    "    \n",
    "    tmp_list = []\n",
    "\n",
    "    while True :\n",
    "        for i in range(len(args)) :\n",
    "            print (args[i])\n",
    "\n",
    "            tmp_list.append(args[i][indices[i]])\n",
    "\n",
    "        which_list = np.argmin(tmp_list)\n",
    "        print(which_list)\n",
    "\n",
    "        # Add the correct item\n",
    "        ret_array.append(args[which_list][indices[which_list]])\n",
    "\n",
    "        # increment the index that list\n",
    "        indices[which_list] += 1\n",
    "\n",
    "    return ret_array\n",
    "\n",
    "mergeSortedArrays([0,4,9],[2,7,11],[6,8])"
   ]
  },
  {
   "cell_type": "code",
   "execution_count": null,
   "metadata": {},
   "outputs": [],
   "source": []
  }
 ],
 "metadata": {
  "kernelspec": {
   "display_name": "Python 3",
   "language": "python",
   "name": "python3"
  },
  "language_info": {
   "codemirror_mode": {
    "name": "ipython",
    "version": 3
   },
   "file_extension": ".py",
   "mimetype": "text/x-python",
   "name": "python",
   "nbconvert_exporter": "python",
   "pygments_lexer": "ipython3",
   "version": "3.8.2"
  }
 },
 "nbformat": 4,
 "nbformat_minor": 4
}
