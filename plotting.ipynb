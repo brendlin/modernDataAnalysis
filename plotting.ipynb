{
 "cells": [
  {
   "cell_type": "markdown",
   "metadata": {},
   "source": [
    "Plotting with MatPlotLib\n",
    "========="
   ]
  },
  {
   "cell_type": "code",
   "execution_count": null,
   "metadata": {},
   "outputs": [],
   "source": [
    "import matplotlib.pyplot as plt\n",
    "plt.rcParams.update({'font.size': 15})\n",
    "import numpy as np"
   ]
  },
  {
   "cell_type": "markdown",
   "metadata": {},
   "source": [
    "Histograms (1D, 2D), general formatting\n",
    "========"
   ]
  },
  {
   "cell_type": "code",
   "execution_count": null,
   "metadata": {},
   "outputs": [],
   "source": [
    "fig,ax = plt.subplots(figsize=(8,6))\n",
    "a = np.random.normal(0,1,size=(1000))\n",
    "b = np.random.normal(1,1,size=(1000))\n",
    "ax.hist(a,bins=np.linspace(-5,5,21),edgecolor='red',histtype = 'step',fill=None,label='red');\n",
    "ax.hist(b,bins=np.linspace(-5,5,21),edgecolor='blue',histtype = 'step',fill=None,label='blue');\n",
    "\n",
    "# histogram with error bars\n",
    "c = np.random.normal(-1,1,size=(1000))\n",
    "n,bin_edges = np.histogram(c,20,[-5,5])\n",
    "bin_centers = bin_edges[:-1] + np.diff(bin_edges) / 2\n",
    "ax.errorbar(bin_centers,n,yerr=np.sqrt(n), fmt='o',label='errorbars')\n",
    "\n",
    "# Labeling / legend options\n",
    "ax.set(xlabel='bins', ylabel='Events')\n",
    "# ax.set_xlabel('bins')\n",
    "# ax.set_ylabel('Events')\n",
    "ax.legend();"
   ]
  },
  {
   "cell_type": "code",
   "execution_count": null,
   "metadata": {},
   "outputs": [],
   "source": [
    "fig,ax = plt.subplots(figsize=(8,6))\n",
    "hist_2d = ax.hist2d(a,b,bins=[20,20])\n",
    "\n",
    "# axes\n",
    "fig.colorbar(hist_2d[3], ax=ax,label='z axis')\n",
    "ax.set(xlabel='x axis', ylabel='y axis');"
   ]
  },
  {
   "cell_type": "code",
   "execution_count": null,
   "metadata": {},
   "outputs": [],
   "source": []
  }
 ],
 "metadata": {
  "kernelspec": {
   "display_name": "Python 3",
   "language": "python",
   "name": "python3"
  },
  "language_info": {
   "codemirror_mode": {
    "name": "ipython",
    "version": 3
   },
   "file_extension": ".py",
   "mimetype": "text/x-python",
   "name": "python",
   "nbconvert_exporter": "python",
   "pygments_lexer": "ipython3",
   "version": "3.8.2"
  }
 },
 "nbformat": 4,
 "nbformat_minor": 4
}
