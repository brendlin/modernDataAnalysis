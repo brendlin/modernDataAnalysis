{
 "cells": [
  {
   "cell_type": "markdown",
   "metadata": {},
   "source": [
    "Plotting with MatPlotLib\n",
    "=========\n",
    "\n",
    "If you are looking for the Histo class, look for the matplotlibHistos package."
   ]
  },
  {
   "cell_type": "code",
   "execution_count": null,
   "metadata": {},
   "outputs": [],
   "source": [
    "import matplotlib.pyplot as plt\n",
    "plt.rcParams.update({'font.size': 15})\n",
    "import numpy as np"
   ]
  },
  {
   "cell_type": "markdown",
   "metadata": {},
   "source": [
    "Histograms (1D, 2D), general formatting\n",
    "========"
   ]
  },
  {
   "cell_type": "code",
   "execution_count": null,
   "metadata": {},
   "outputs": [],
   "source": [
    "fig,ax = plt.subplots(figsize=(8,6))\n",
    "a = np.random.normal(0,1,size=(1000))\n",
    "b = np.random.normal(1,1,size=(1000))\n",
    "ax.hist(a,bins=np.linspace(-5,5,21),edgecolor='red',histtype = 'step',fill=None,label='red');\n",
    "ax.hist(b,bins=np.linspace(-5,5,21),edgecolor='blue',histtype = 'step',fill=None,label='blue');\n",
    "\n",
    "# histogram with error bars\n",
    "c = np.random.normal(-1,1,size=(1000))\n",
    "n,bin_edges = np.histogram(c,20,[-5,5])\n",
    "bin_centers = bin_edges[:-1] + np.diff(bin_edges) / 2\n",
    "ax.errorbar(bin_centers,n,yerr=np.sqrt(n), fmt='o',label='errorbars')\n",
    "\n",
    "# Labeling / legend options\n",
    "ax.set(xlabel='bins', ylabel='Events')\n",
    "# ax.set_xlabel('bins')\n",
    "# ax.set_ylabel('Events')\n",
    "ax.legend();\n",
    "\n",
    "ax.text(0.05,0.8,'random text',transform=ax.transAxes)"
   ]
  },
  {
   "cell_type": "code",
   "execution_count": null,
   "metadata": {},
   "outputs": [],
   "source": [
    "fig,(ax1,ax2) = plt.subplots(1, 2,figsize=(20,8))\n",
    "fig.suptitle('Two 2D histograms')\n",
    "fig.supxlabel('Super-X-label')\n",
    "fig.supylabel('Super-Y-label')\n",
    "vmin,vmax = 0,1100\n",
    "c = np.random.normal(0,4,size=(100000))\n",
    "d = np.random.normal(2,4,size=(100000))\n",
    "\n",
    "# Left axis: colorbar\n",
    "hist_2d = ax1.hist2d(c,d,bins=[10,10],range=((-5,5),(-5,5)),vmin=0,vmax=1100)\n",
    "fig.colorbar(hist_2d[3],ax=ax1).set_label('z axis',rotation=270,labelpad=15)\n",
    "ax1.set(xlabel='x axis',ylabel='y axis');\n",
    "\n",
    "# Right axis: contourf\n",
    "x_centers = hist_2d[1][:-1] + np.diff(hist_2d[1] / 2)\n",
    "y_centers = hist_2d[2][:-1] + np.diff(hist_2d[2] / 2)\n",
    "X,Y = np.meshgrid(x_centers,y_centers)\n",
    "levels = np.linspace(vmin, vmax, 9)\n",
    "# Watch out -- you need SwapAxes for some reason!\n",
    "my_contour = ax2.contourf(X,Y,np.swapaxes(hist_2d[0],0,1),cmap='Blues',vmin=vmin,vmax=vmax,levels=levels)\n",
    "ax2.set(xlabel='x axis',ylabel='y axis');\n",
    "ax2.set_xlim([-5,5])\n",
    "ax2.set_ylim([-5,5])\n",
    "fig.colorbar(my_contour).set_label('z axis', rotation=270,labelpad=15)"
   ]
  },
  {
   "cell_type": "code",
   "execution_count": null,
   "metadata": {},
   "outputs": [],
   "source": []
  }
 ],
 "metadata": {
  "kernelspec": {
   "display_name": "Python 3",
   "language": "python",
   "name": "python3"
  },
  "language_info": {
   "codemirror_mode": {
    "name": "ipython",
    "version": 3
   },
   "file_extension": ".py",
   "mimetype": "text/x-python",
   "name": "python",
   "nbconvert_exporter": "python",
   "pygments_lexer": "ipython3",
   "version": "3.8.12"
  }
 },
 "nbformat": 4,
 "nbformat_minor": 4
}
